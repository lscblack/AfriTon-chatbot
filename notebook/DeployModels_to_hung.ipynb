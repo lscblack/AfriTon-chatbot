{
 "cells": [
  {
   "cell_type": "code",
   "execution_count": null,
   "id": "05facb07",
   "metadata": {},
   "outputs": [],
   "source": [
    "from pathlib import Path"
   ]
  },
  {
   "cell_type": "code",
   "execution_count": null,
   "id": "677e0bb3",
   "metadata": {},
   "outputs": [],
   "source": [
    "from huggingface_hub import login\n",
    "login(token=\"\")"
   ]
  },
  {
   "cell_type": "code",
   "execution_count": null,
   "id": "a2caf402",
   "metadata": {},
   "outputs": [],
   "source": [
    "from huggingface_hub import HfApi, Repository\n",
    "\n",
    "repo_id = \"lscblack/healthbot\"\n",
    "local_dir = \"../models/processed-v6\"\n",
    "\n",
    "# Clone repo (or link folder to repo)\n",
    "repo = Repository(local_dir=local_dir, clone_from=repo_id, use_auth_token=True)\n",
    "\n",
    "# Push folder to Hub\n",
    "repo.push_to_hub(commit_message=\"Upload processed-v6 model\")\n"
   ]
  },
  {
   "cell_type": "code",
   "execution_count": null,
   "id": "db541e93",
   "metadata": {},
   "outputs": [],
   "source": []
  }
 ],
 "metadata": {
  "kernelspec": {
   "display_name": "ml-gpu",
   "language": "python",
   "name": "python3"
  },
  "language_info": {
   "codemirror_mode": {
    "name": "ipython",
    "version": 3
   },
   "file_extension": ".py",
   "mimetype": "text/x-python",
   "name": "python",
   "nbconvert_exporter": "python",
   "pygments_lexer": "ipython3",
   "version": "3.10.18"
  }
 },
 "nbformat": 4,
 "nbformat_minor": 5
}
